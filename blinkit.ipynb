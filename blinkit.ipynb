*** import libraries***
import pandas as pd 
import numpy as np 
import matplotlib.pyplot as plt 
import seaborn as sns 

** import raw data **
import pandas as pd 

df = pd.read_csv('/Users/komalnathkomal/Documents/blinkit_data.csv')
df.head(10)

df.tail(10)

**size of data**
df.shape 
** Field info**
df.columns
df.dtypes
**Data Cleaning **
df['Item Fat Content']=df['Item Fat Content'].replace({'LF': 'Low Fat','low fat':'Low Fat', 'reg':'Low Fat'})
print(df['Item Fat Content'].unique())
***##Businees Requirement##**

***##KPI Requirement##**
# Total sales 
total_sales = df['Sales'].sum()
#Average Sales 
Avg_sales = df['Sales'].mean()
# No of item sold 
no_of_items_sold = df['Sales'].count()
# Avg Ratings 
Avg_ratings = df['Rating'].mean()
#Display 
print(f"Total Sales: ${total_sales:,.1f}")
print(f"Average Sales: ${Avg_sales:,.2f}")
print(f"Number of Items Sold: {no_of_items_sold}")
print(f"Average Rating: {Avg_ratings:.2f}")

**#Charts Requirement#**
##** Total Sales by Fat Content ** 
import matplotlib.pyplot as plt
import pandas as pd

# Grouping and plotting
sales_by_fat = df.groupby('Item Fat Content')['Sales'].sum()

plt.pie(
    sales_by_fat,
    labels=sales_by_fat.index,
    autopct='%.0f%%',
    startangle=90
)
plt.title('Sales by Fat Content')
plt.axis('equal')  # Makes the pie a circle
plt.show()


import pandas as pd
import matplotlib.pyplot as plt

# Grouping by 'Item Type' and summing Sales
sales_by_type = df.groupby('Item Type')['Sales'].sum().sort_values(ascending=False)

# Set figure size
plt.figure(figsize=(12,6))

# Create bar chart
bars = plt.bar(sales_by_type.index, sales_by_type.values, color='skyblue')

# Rotate x-axis labels for readability
plt.xticks(rotation=90)

# Axis labels and title
plt.xlabel('Item Type')
plt.ylabel('Total Sales')
plt.title('Total Sales by Item Type')

# Add value labels (ads) on top of each bar
for bar in bars:
    plt.text(
        bar.get_x() + bar.get_width() / 2,  # x-position (center of bar)
        bar.get_height(),                  # y-position (top of bar)
        f'{bar.get_height():,.0f}',        # formatted sales value
        ha='center', va='bottom', fontsize=8, color='black'
    )

# Adjust layout so nothing is cut off
plt.tight_layout()

# Show the plot
plt.show()
 # Group by Outlet Location Type and Item Fat Content, then sum Sales
grouped = df.groupby(['Outlet Location Type', 'Item Fat Content'])['Sales'].sum().unstack()

# Only include specific fat types in the chart
grouped = grouped[['Regular', 'Low Fat']]

# Plotting
ax = grouped.plot(kind='bar', figsize=(8, 5), title='Outlet Tier by Item Fat Content')

# Axis labels
plt.xlabel('Outlet Location Tier')
plt.ylabel('Total Sales')

# Legend and layout
plt.legend(title='Item Fat Content')
plt.tight_layout()

# Show plot
plt.show()
sales_by_year = df.groupby('Outlet Establishment Year')['Sales'].sum().sort_index()

plt.figure(figsize=(9, 5))
plt.plot(sales_by_year.index, sales_by_year.values, marker='o', linestyle='-')

plt.xlabel('Outlet Establishment Year')
plt.ylabel('Total Sales')
plt.title('Outlet Establishment')

# Add value labels on each data point
for x, y in zip(sales_by_year.index, sales_by_year.values):
    plt.text(x, y, f'{y:,.0f}', ha='center', va='bottom', fontsize=8)

plt.tight_layout()
plt.show()
# Group the data by 'Outlet Size' and sum the 'Sales'
sales_by_size = df.groupby('Outlet Size')['Sales'].sum()

# Set the figure size
plt.figure(figsize=(4, 4))

# Create the pie chart
plt.pie(
    sales_by_size,                          # values for pie slices
    labels=sales_by_size.index,             # labels (outlet sizes)
    autopct='%1.1f%%',                      # format to show percentage with 1 decimal
    startangle=90                           # start from top (12 o'clock)
)

# Add title and layout adjustments
plt.title('Outlet Size')
plt.tight_layout()
plt.show()

import seaborn as sns 
# Step 1: Grouping sales by Outlet Location Type
sales_by_location = df.groupby('Outlet Location Type')['Sales'].sum().reset_index()

# Step 2: Sorting the result in descending order of sales
sales_by_location = sales_by_location.sort_values('Sales', ascending=False)

# Step 3: Setting the figure size (8 width, 3 height)
plt.figure(figsize=(8, 3))

# Step 4: Creating a horizontal bar plot
ax = sns.barplot(
    x='Sales', 
    y='Outlet Location Type', 
    data=sales_by_location
)

# Step 5: Adding labels and title
plt.title('Total Sales by Outlet Location Type')
plt.xlabel('Total Sales')
plt.ylabel('Outlet Location Type')

# Step 6: Adjust layout and display
plt.tight_layout()
plt.show()

